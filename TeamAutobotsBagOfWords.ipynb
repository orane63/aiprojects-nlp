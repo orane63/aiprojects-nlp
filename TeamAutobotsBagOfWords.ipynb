{
  "nbformat": 4,
  "nbformat_minor": 0,
  "metadata": {
    "colab": {
      "provenance": []
    },
    "kernelspec": {
      "name": "python3",
      "display_name": "Python 3"
    },
    "language_info": {
      "name": "python"
    },
    "widgets": {
      "application/vnd.jupyter.widget-state+json": {
        "7994fc6b9b3142598ba27d065c80b5e9": {
          "model_module": "@jupyter-widgets/controls",
          "model_name": "HBoxModel",
          "model_module_version": "1.5.0",
          "state": {
            "_dom_classes": [],
            "_model_module": "@jupyter-widgets/controls",
            "_model_module_version": "1.5.0",
            "_model_name": "HBoxModel",
            "_view_count": null,
            "_view_module": "@jupyter-widgets/controls",
            "_view_module_version": "1.5.0",
            "_view_name": "HBoxView",
            "box_style": "",
            "children": [
              "IPY_MODEL_a3c82bf6b8b846319c17d66228054d77",
              "IPY_MODEL_1fa13ca43e5e4b609575d696ddcf5a0e",
              "IPY_MODEL_6dcc18ba9c33448c804d5f8ef9797277"
            ],
            "layout": "IPY_MODEL_06072d4043a243f19ad15cff68031f8a"
          }
        },
        "a3c82bf6b8b846319c17d66228054d77": {
          "model_module": "@jupyter-widgets/controls",
          "model_name": "HTMLModel",
          "model_module_version": "1.5.0",
          "state": {
            "_dom_classes": [],
            "_model_module": "@jupyter-widgets/controls",
            "_model_module_version": "1.5.0",
            "_model_name": "HTMLModel",
            "_view_count": null,
            "_view_module": "@jupyter-widgets/controls",
            "_view_module_version": "1.5.0",
            "_view_name": "HTMLView",
            "description": "",
            "description_tooltip": null,
            "layout": "IPY_MODEL_96a7f2c82fc14900876bb624b3796265",
            "placeholder": "​",
            "style": "IPY_MODEL_319be2082aad4f658a7a78545aceca0d",
            "value": "100%"
          }
        },
        "1fa13ca43e5e4b609575d696ddcf5a0e": {
          "model_module": "@jupyter-widgets/controls",
          "model_name": "FloatProgressModel",
          "model_module_version": "1.5.0",
          "state": {
            "_dom_classes": [],
            "_model_module": "@jupyter-widgets/controls",
            "_model_module_version": "1.5.0",
            "_model_name": "FloatProgressModel",
            "_view_count": null,
            "_view_module": "@jupyter-widgets/controls",
            "_view_module_version": "1.5.0",
            "_view_name": "ProgressView",
            "bar_style": "success",
            "description": "",
            "description_tooltip": null,
            "layout": "IPY_MODEL_f27556dfb4554c2290af6e388d978941",
            "max": 375806,
            "min": 0,
            "orientation": "horizontal",
            "style": "IPY_MODEL_9ea6454edebb4808a340ea0a4cb7045a",
            "value": 375806
          }
        },
        "6dcc18ba9c33448c804d5f8ef9797277": {
          "model_module": "@jupyter-widgets/controls",
          "model_name": "HTMLModel",
          "model_module_version": "1.5.0",
          "state": {
            "_dom_classes": [],
            "_model_module": "@jupyter-widgets/controls",
            "_model_module_version": "1.5.0",
            "_model_name": "HTMLModel",
            "_view_count": null,
            "_view_module": "@jupyter-widgets/controls",
            "_view_module_version": "1.5.0",
            "_view_name": "HTMLView",
            "description": "",
            "description_tooltip": null,
            "layout": "IPY_MODEL_68bdc29ad9ab4c6fba12e8966c3c9b7f",
            "placeholder": "​",
            "style": "IPY_MODEL_2d7386368bd9422b9bfd04b6020157d7",
            "value": " 375806/375806 [01:38&lt;00:00, 4011.73it/s]"
          }
        },
        "06072d4043a243f19ad15cff68031f8a": {
          "model_module": "@jupyter-widgets/base",
          "model_name": "LayoutModel",
          "model_module_version": "1.2.0",
          "state": {
            "_model_module": "@jupyter-widgets/base",
            "_model_module_version": "1.2.0",
            "_model_name": "LayoutModel",
            "_view_count": null,
            "_view_module": "@jupyter-widgets/base",
            "_view_module_version": "1.2.0",
            "_view_name": "LayoutView",
            "align_content": null,
            "align_items": null,
            "align_self": null,
            "border": null,
            "bottom": null,
            "display": null,
            "flex": null,
            "flex_flow": null,
            "grid_area": null,
            "grid_auto_columns": null,
            "grid_auto_flow": null,
            "grid_auto_rows": null,
            "grid_column": null,
            "grid_gap": null,
            "grid_row": null,
            "grid_template_areas": null,
            "grid_template_columns": null,
            "grid_template_rows": null,
            "height": null,
            "justify_content": null,
            "justify_items": null,
            "left": null,
            "margin": null,
            "max_height": null,
            "max_width": null,
            "min_height": null,
            "min_width": null,
            "object_fit": null,
            "object_position": null,
            "order": null,
            "overflow": null,
            "overflow_x": null,
            "overflow_y": null,
            "padding": null,
            "right": null,
            "top": null,
            "visibility": null,
            "width": null
          }
        },
        "96a7f2c82fc14900876bb624b3796265": {
          "model_module": "@jupyter-widgets/base",
          "model_name": "LayoutModel",
          "model_module_version": "1.2.0",
          "state": {
            "_model_module": "@jupyter-widgets/base",
            "_model_module_version": "1.2.0",
            "_model_name": "LayoutModel",
            "_view_count": null,
            "_view_module": "@jupyter-widgets/base",
            "_view_module_version": "1.2.0",
            "_view_name": "LayoutView",
            "align_content": null,
            "align_items": null,
            "align_self": null,
            "border": null,
            "bottom": null,
            "display": null,
            "flex": null,
            "flex_flow": null,
            "grid_area": null,
            "grid_auto_columns": null,
            "grid_auto_flow": null,
            "grid_auto_rows": null,
            "grid_column": null,
            "grid_gap": null,
            "grid_row": null,
            "grid_template_areas": null,
            "grid_template_columns": null,
            "grid_template_rows": null,
            "height": null,
            "justify_content": null,
            "justify_items": null,
            "left": null,
            "margin": null,
            "max_height": null,
            "max_width": null,
            "min_height": null,
            "min_width": null,
            "object_fit": null,
            "object_position": null,
            "order": null,
            "overflow": null,
            "overflow_x": null,
            "overflow_y": null,
            "padding": null,
            "right": null,
            "top": null,
            "visibility": null,
            "width": null
          }
        },
        "319be2082aad4f658a7a78545aceca0d": {
          "model_module": "@jupyter-widgets/controls",
          "model_name": "DescriptionStyleModel",
          "model_module_version": "1.5.0",
          "state": {
            "_model_module": "@jupyter-widgets/controls",
            "_model_module_version": "1.5.0",
            "_model_name": "DescriptionStyleModel",
            "_view_count": null,
            "_view_module": "@jupyter-widgets/base",
            "_view_module_version": "1.2.0",
            "_view_name": "StyleView",
            "description_width": ""
          }
        },
        "f27556dfb4554c2290af6e388d978941": {
          "model_module": "@jupyter-widgets/base",
          "model_name": "LayoutModel",
          "model_module_version": "1.2.0",
          "state": {
            "_model_module": "@jupyter-widgets/base",
            "_model_module_version": "1.2.0",
            "_model_name": "LayoutModel",
            "_view_count": null,
            "_view_module": "@jupyter-widgets/base",
            "_view_module_version": "1.2.0",
            "_view_name": "LayoutView",
            "align_content": null,
            "align_items": null,
            "align_self": null,
            "border": null,
            "bottom": null,
            "display": null,
            "flex": null,
            "flex_flow": null,
            "grid_area": null,
            "grid_auto_columns": null,
            "grid_auto_flow": null,
            "grid_auto_rows": null,
            "grid_column": null,
            "grid_gap": null,
            "grid_row": null,
            "grid_template_areas": null,
            "grid_template_columns": null,
            "grid_template_rows": null,
            "height": null,
            "justify_content": null,
            "justify_items": null,
            "left": null,
            "margin": null,
            "max_height": null,
            "max_width": null,
            "min_height": null,
            "min_width": null,
            "object_fit": null,
            "object_position": null,
            "order": null,
            "overflow": null,
            "overflow_x": null,
            "overflow_y": null,
            "padding": null,
            "right": null,
            "top": null,
            "visibility": null,
            "width": null
          }
        },
        "9ea6454edebb4808a340ea0a4cb7045a": {
          "model_module": "@jupyter-widgets/controls",
          "model_name": "ProgressStyleModel",
          "model_module_version": "1.5.0",
          "state": {
            "_model_module": "@jupyter-widgets/controls",
            "_model_module_version": "1.5.0",
            "_model_name": "ProgressStyleModel",
            "_view_count": null,
            "_view_module": "@jupyter-widgets/base",
            "_view_module_version": "1.2.0",
            "_view_name": "StyleView",
            "bar_color": null,
            "description_width": ""
          }
        },
        "68bdc29ad9ab4c6fba12e8966c3c9b7f": {
          "model_module": "@jupyter-widgets/base",
          "model_name": "LayoutModel",
          "model_module_version": "1.2.0",
          "state": {
            "_model_module": "@jupyter-widgets/base",
            "_model_module_version": "1.2.0",
            "_model_name": "LayoutModel",
            "_view_count": null,
            "_view_module": "@jupyter-widgets/base",
            "_view_module_version": "1.2.0",
            "_view_name": "LayoutView",
            "align_content": null,
            "align_items": null,
            "align_self": null,
            "border": null,
            "bottom": null,
            "display": null,
            "flex": null,
            "flex_flow": null,
            "grid_area": null,
            "grid_auto_columns": null,
            "grid_auto_flow": null,
            "grid_auto_rows": null,
            "grid_column": null,
            "grid_gap": null,
            "grid_row": null,
            "grid_template_areas": null,
            "grid_template_columns": null,
            "grid_template_rows": null,
            "height": null,
            "justify_content": null,
            "justify_items": null,
            "left": null,
            "margin": null,
            "max_height": null,
            "max_width": null,
            "min_height": null,
            "min_width": null,
            "object_fit": null,
            "object_position": null,
            "order": null,
            "overflow": null,
            "overflow_x": null,
            "overflow_y": null,
            "padding": null,
            "right": null,
            "top": null,
            "visibility": null,
            "width": null
          }
        },
        "2d7386368bd9422b9bfd04b6020157d7": {
          "model_module": "@jupyter-widgets/controls",
          "model_name": "DescriptionStyleModel",
          "model_module_version": "1.5.0",
          "state": {
            "_model_module": "@jupyter-widgets/controls",
            "_model_module_version": "1.5.0",
            "_model_name": "DescriptionStyleModel",
            "_view_count": null,
            "_view_module": "@jupyter-widgets/base",
            "_view_module_version": "1.2.0",
            "_view_name": "StyleView",
            "description_width": ""
          }
        }
      }
    }
  },
  "cells": [
    {
      "cell_type": "markdown",
      "source": [
        "#Download data"
      ],
      "metadata": {
        "id": "Wj8mp6OKTVIE"
      }
    },
    {
      "cell_type": "code",
      "execution_count": 1,
      "metadata": {
        "colab": {
          "base_uri": "https://localhost:8080/"
        },
        "id": "H3CsmNrcTLfM",
        "outputId": "4dd6447b-9769-4cac-db85-94cc1cb389fc"
      },
      "outputs": [
        {
          "output_type": "stream",
          "name": "stdout",
          "text": [
            "Downloading...\n",
            "From: https://drive.google.com/uc?export=download&id=199EtucyfnhZOIHq_jfGjODTZm3Scz5yC\n",
            "To: /content/quora_questions_train.csv\n",
            "100% 124M/124M [00:00<00:00, 126MB/s]\n"
          ]
        }
      ],
      "source": [
        "# Download the training data\n",
        "!gdown \"https://drive.google.com/uc?export=download&id=199EtucyfnhZOIHq_jfGjODTZm3Scz5yC\""
      ]
    },
    {
      "cell_type": "code",
      "source": [
        "# Download the test data\n",
        "!gdown \"https://drive.google.com/uc?export=download&id=1hL9DZvEY-HCOh3FXVtUIuS1CyM8zhRZn\""
      ],
      "metadata": {
        "colab": {
          "base_uri": "https://localhost:8080/"
        },
        "id": "EDhl5T3PGbv0",
        "outputId": "b6b594ca-d698-4aab-ce39-cb4ea1325520"
      },
      "execution_count": 2,
      "outputs": [
        {
          "output_type": "stream",
          "name": "stdout",
          "text": [
            "Downloading...\n",
            "From: https://drive.google.com/uc?export=download&id=1hL9DZvEY-HCOh3FXVtUIuS1CyM8zhRZn\n",
            "To: /content/quora_questions_test.csv\n",
            "100% 35.0M/35.0M [00:00<00:00, 73.9MB/s]\n"
          ]
        }
      ]
    },
    {
      "cell_type": "code",
      "source": [
        "from google.colab import drive\n",
        "drive.mount('/content/drive')"
      ],
      "metadata": {
        "colab": {
          "base_uri": "https://localhost:8080/"
        },
        "id": "Fe6yAckfTYfE",
        "outputId": "943e93d0-2067-43c0-c9b7-52186a185470"
      },
      "execution_count": 3,
      "outputs": [
        {
          "output_type": "stream",
          "name": "stdout",
          "text": [
            "Mounted at /content/drive\n"
          ]
        }
      ]
    },
    {
      "cell_type": "markdown",
      "source": [
        "# Setup"
      ],
      "metadata": {
        "id": "qBb6_qrDT0Gc"
      }
    },
    {
      "cell_type": "code",
      "source": [
        "import pandas as pd\n",
        "from sklearn.feature_extraction.text import CountVectorizer\n",
        "from sklearn.model_selection import train_test_split\n",
        "import os\n",
        "import torch\n",
        "import torch.nn as nn\n",
        "import torch.optim as optim\n",
        "from sklearn.metrics import f1_score\n",
        "from tqdm import tqdm\n",
        "import numpy as np\n",
        "SEED = 23"
      ],
      "metadata": {
        "id": "U3yNccv5T2K9"
      },
      "execution_count": 4,
      "outputs": []
    },
    {
      "cell_type": "code",
      "source": [
        "class BagofwordsDataset(torch.utils.data.Dataset):\n",
        "    def __init__(self, data, vectorizer):\n",
        "        self.df = data\n",
        "        self.sequences = vectorizer.transform(self.df.question_text.tolist()) # matrix of word counts for each sample\n",
        "        self.labels = self.df.target.tolist() # list of labels\n",
        "        self.token2idx = vectorizer.vocabulary_ # dictionary converting words to their counts\n",
        "        self.idx2token = {idx: token for token, idx in self.token2idx.items()} # same dictionary backwards\n",
        "    def __getitem__(self, i):\n",
        "        # return the ith sample's list of word counts and label\n",
        "        return self.sequences[i, :].toarray(), self.labels[i]\n",
        "\n",
        "    def __len__(self):\n",
        "        return self.sequences.shape[0]"
      ],
      "metadata": {
        "id": "xnDeLZ_PT5cC"
      },
      "execution_count": 5,
      "outputs": []
    },
    {
      "cell_type": "code",
      "source": [
        "class BagOfWordsNetwork(torch.nn.Module):\n",
        "    def __init__(self, input_dim, hidden_dim, vectorizer):\n",
        "        super().__init__()\n",
        "        self.fc1 = nn.Linear(input_dim, hidden_dim)\n",
        "        self.fc2 = nn.Linear(hidden_dim, 1)\n",
        "        self.sigmoid = nn.Sigmoid()\n",
        "        self.vectorizer = vectorizer\n",
        "\n",
        "    def forward(self, x):\n",
        "        x = self.fc1(x)\n",
        "        x = self.fc2(x)\n",
        "        x = self.sigmoid(x)\n",
        "        return x"
      ],
      "metadata": {
        "id": "eB1i-P0QULlf"
      },
      "execution_count": 6,
      "outputs": []
    },
    {
      "cell_type": "code",
      "source": [
        "def bagofwords_train(train_dataset, val_dataset, model, hyperparameters, n_eval):\n",
        "    \"\"\"\n",
        "    Trains and evaluates a model.\n",
        "    Args:\n",
        "        train_dataset:   PyTorch dataset containing training data.\n",
        "        val_dataset:     PyTorch dataset containing validation data.\n",
        "        model:           PyTorch model to be trained.\n",
        "        hyperparameters: Dictionary containing hyperparameters.\n",
        "        n_eval:          Interval at which we evaluate our model.\n",
        "    \"\"\"\n",
        "\n",
        "    # Get keyword arguments\n",
        "    batch_size, epochs = hyperparameters[\"batch_size\"], hyperparameters[\"epochs\"]\n",
        "\n",
        "    # Initialize dataloaders\n",
        "    train_loader = torch.utils.data.DataLoader(\n",
        "        train_dataset, batch_size=batch_size, shuffle=True\n",
        "    )\n",
        "\n",
        "    # Note: batch_size = len(val_dataset), so that's the whole validation set\n",
        "    val_loader = torch.utils.data.DataLoader(\n",
        "        val_dataset, batch_size=len(val_dataset), shuffle=True\n",
        "    )\n",
        "\n",
        "    # Initalize optimizer (for gradient descent) and loss function\n",
        "    optimizer = optim.Adam(model.parameters())\n",
        "    loss_fn = nn.BCELoss()\n",
        "\n",
        "    for epoch in range(epochs):\n",
        "        print(f\"Epoch {epoch + 1} of {epochs}\")\n",
        "\n",
        "        # Loop over each batch in the dataset\n",
        "        for batch, (X, y) in tqdm(enumerate(train_loader)):\n",
        "            # Predictions and loss\n",
        "            X = X.type(torch.float)\n",
        "            y = y.type(torch.float)\n",
        "\n",
        "            pred = model(X)\n",
        "            pred = np.squeeze(pred)\n",
        "            loss = loss_fn(pred, y)\n",
        "\n",
        "            # Backpropagation and optimization\n",
        "            optimizer.zero_grad()\n",
        "            loss.backward()\n",
        "            optimizer.step()\n",
        "\n",
        "            # Periodically evaluate our model + log to Tensorboard\n",
        "            if batch % n_eval == 0:\n",
        "                # CHANGE PATH AS NECESSARY\n",
        "                joshua_path = \"/content/drive/MyDrive/ACM AI Stuff/BagOfWordsSaves/\"\n",
        "                #arjun_path = \"\"\n",
        "                name = \"BagOfWords\" + str(batch) + \".pt\"\n",
        "                torch.save(model, joshua_path + name)\n",
        "                #torch.save(model, arjun_path + name)\n",
        "\n",
        "                # Compute training loss and accuracy.\n",
        "                accuracy = compute_accuracy(pred, y)\n",
        "                print(\"batch loss: \", loss)\n",
        "                print(\"batch accuracy: \", accuracy)\n",
        "\n",
        "                # Compute validation loss and accuracy.\n",
        "                val_loss, val_accuracy, f1 = bagofwords_evaluate(val_loader, model, loss_fn)\n",
        "                print(\"validation loss: \", val_loss)\n",
        "                print(\"validation accuracy: \", val_accuracy)\n",
        "                print(\"f1 score: \", f1)\n",
        "\n",
        "\n",
        "\n",
        "def compute_accuracy(outputs, labels):\n",
        "    n_correct = (torch.round(outputs) == labels).sum().item()\n",
        "    n_total = len(outputs)\n",
        "    return n_correct / n_total\n",
        "\n",
        "\n",
        "def bagofwords_evaluate(val_loader, model, loss_fn):\n",
        "    with torch.no_grad():\n",
        "        # There should only be one batch (the entire validation set)\n",
        "        for (X, y) in val_loader:\n",
        "            X = X.type(torch.float)\n",
        "            y = y.type(torch.float)\n",
        "\n",
        "            pred = model(X)\n",
        "            pred = np.squeeze(pred)\n",
        "            loss = loss_fn(pred, y)\n",
        "            f1 = f1_score(torch.round(pred), y, average='macro')\n",
        "            accuracy = compute_accuracy(pred, y)\n",
        "            return loss, accuracy, f1"
      ],
      "metadata": {
        "id": "UwbypurZUZ90"
      },
      "execution_count": 12,
      "outputs": []
    },
    {
      "cell_type": "markdown",
      "source": [
        "#Training"
      ],
      "metadata": {
        "id": "qf1T1CvqVcQB"
      }
    },
    {
      "cell_type": "code",
      "source": [
        "EPOCHS = 1\n",
        "BATCH_SIZE = 32\n",
        "N_EVAL = 100\n",
        "HIDDEN_DIM = 64\n",
        "hyperparameters = {\"batch_size\": BATCH_SIZE, \"epochs\": EPOCHS}"
      ],
      "metadata": {
        "id": "iiWXqECOWwGI"
      },
      "execution_count": 8,
      "outputs": []
    },
    {
      "cell_type": "code",
      "source": [
        "%cd /\n",
        "%cd content\n",
        "data_path = 'quora_questions_train.csv'\n",
        "data_pd = pd.read_csv(data_path)\n",
        "data, val = train_test_split(data_pd, test_size = 0.05, stratify = data_pd['target'], shuffle = True, random_state = SEED)\n",
        "vectorizer = CountVectorizer(stop_words='english', max_df=0.99, min_df=0.005)\n",
        "fit = vectorizer.fit(data.question_text.tolist())\n",
        "train_dataset = BagofwordsDataset(data,fit)\n",
        "val_dataset = BagofwordsDataset(val,fit)"
      ],
      "metadata": {
        "colab": {
          "base_uri": "https://localhost:8080/"
        },
        "id": "g0vm9MLcVt8c",
        "outputId": "861936c1-979e-4cd4-e635-757a516c8b03"
      },
      "execution_count": 9,
      "outputs": [
        {
          "output_type": "stream",
          "name": "stdout",
          "text": [
            "/\n",
            "/content\n"
          ]
        }
      ]
    },
    {
      "cell_type": "code",
      "source": [
        "model = BagOfWordsNetwork(train_dataset.sequences.shape[1], HIDDEN_DIM, fit)"
      ],
      "metadata": {
        "id": "ETLoymK6Vb-B"
      },
      "execution_count": 10,
      "outputs": []
    },
    {
      "cell_type": "code",
      "source": [
        "bagofwords_train(\n",
        "        train_dataset=train_dataset,\n",
        "        val_dataset=val_dataset,\n",
        "        model=model,\n",
        "        hyperparameters=hyperparameters,\n",
        "        n_eval=N_EVAL,\n",
        "    )"
      ],
      "metadata": {
        "id": "xLWaxclWVTvm"
      },
      "execution_count": null,
      "outputs": []
    },
    {
      "cell_type": "markdown",
      "source": [
        "#Evaluation"
      ],
      "metadata": {
        "id": "3wbCmdJaJKb5"
      }
    },
    {
      "cell_type": "code",
      "source": [
        "joshua_saves_path = \"/content/drive/MyDrive/ACM AI Stuff/BagOfWordsSaves/\"\n",
        "model_name = joshua_saves_path + \"BagOfWords38700.pt\"\n",
        "\n",
        "trained_model = torch.load(model_name)\n",
        "trained_model.eval()"
      ],
      "metadata": {
        "id": "t5KrWJI5WxJ2",
        "colab": {
          "base_uri": "https://localhost:8080/"
        },
        "outputId": "ccae4cf2-6e46-4b19-8b8a-c70ad8033bc0"
      },
      "execution_count": 14,
      "outputs": [
        {
          "output_type": "execute_result",
          "data": {
            "text/plain": [
              "BagOfWordsNetwork(\n",
              "  (fc1): Linear(in_features=110, out_features=64, bias=True)\n",
              "  (fc2): Linear(in_features=64, out_features=1, bias=True)\n",
              "  (sigmoid): Sigmoid()\n",
              ")"
            ]
          },
          "metadata": {},
          "execution_count": 14
        }
      ]
    },
    {
      "cell_type": "code",
      "source": [
        "%cd /\n",
        "%cd content\n",
        "test_path = 'quora_questions_test.csv'\n",
        "test_pd = pd.read_csv(test_path)"
      ],
      "metadata": {
        "colab": {
          "base_uri": "https://localhost:8080/"
        },
        "id": "RC08B0PAIxkB",
        "outputId": "4cd60ba7-ad85-4149-d44b-e22608b90641"
      },
      "execution_count": 15,
      "outputs": [
        {
          "output_type": "stream",
          "name": "stdout",
          "text": [
            "/\n",
            "/content\n"
          ]
        }
      ]
    },
    {
      "cell_type": "code",
      "source": [
        "test_pd.head()"
      ],
      "metadata": {
        "colab": {
          "base_uri": "https://localhost:8080/",
          "height": 206
        },
        "id": "Vi1I_OypJTZD",
        "outputId": "548c1abb-2af5-4bca-c671-365c5ab9c5c7"
      },
      "execution_count": 16,
      "outputs": [
        {
          "output_type": "execute_result",
          "data": {
            "text/plain": [
              "                    qid                                      question_text\n",
              "0  0000163e3ea7c7a74cd7  Why do so many women become so rude and arroga...\n",
              "1  00002bd4fb5d505b9161  When should I apply for RV college of engineer...\n",
              "2  00007756b4a147d2b0b3  What is it really like to be a nurse practitio...\n",
              "3  000086e4b7e1c7146103                             Who are entrepreneurs?\n",
              "4  0000c4c3fbe8785a3090   Is education really making good people nowadays?"
            ],
            "text/html": [
              "\n",
              "  <div id=\"df-af633680-4244-464a-af39-cfaf150544da\">\n",
              "    <div class=\"colab-df-container\">\n",
              "      <div>\n",
              "<style scoped>\n",
              "    .dataframe tbody tr th:only-of-type {\n",
              "        vertical-align: middle;\n",
              "    }\n",
              "\n",
              "    .dataframe tbody tr th {\n",
              "        vertical-align: top;\n",
              "    }\n",
              "\n",
              "    .dataframe thead th {\n",
              "        text-align: right;\n",
              "    }\n",
              "</style>\n",
              "<table border=\"1\" class=\"dataframe\">\n",
              "  <thead>\n",
              "    <tr style=\"text-align: right;\">\n",
              "      <th></th>\n",
              "      <th>qid</th>\n",
              "      <th>question_text</th>\n",
              "    </tr>\n",
              "  </thead>\n",
              "  <tbody>\n",
              "    <tr>\n",
              "      <th>0</th>\n",
              "      <td>0000163e3ea7c7a74cd7</td>\n",
              "      <td>Why do so many women become so rude and arroga...</td>\n",
              "    </tr>\n",
              "    <tr>\n",
              "      <th>1</th>\n",
              "      <td>00002bd4fb5d505b9161</td>\n",
              "      <td>When should I apply for RV college of engineer...</td>\n",
              "    </tr>\n",
              "    <tr>\n",
              "      <th>2</th>\n",
              "      <td>00007756b4a147d2b0b3</td>\n",
              "      <td>What is it really like to be a nurse practitio...</td>\n",
              "    </tr>\n",
              "    <tr>\n",
              "      <th>3</th>\n",
              "      <td>000086e4b7e1c7146103</td>\n",
              "      <td>Who are entrepreneurs?</td>\n",
              "    </tr>\n",
              "    <tr>\n",
              "      <th>4</th>\n",
              "      <td>0000c4c3fbe8785a3090</td>\n",
              "      <td>Is education really making good people nowadays?</td>\n",
              "    </tr>\n",
              "  </tbody>\n",
              "</table>\n",
              "</div>\n",
              "      <button class=\"colab-df-convert\" onclick=\"convertToInteractive('df-af633680-4244-464a-af39-cfaf150544da')\"\n",
              "              title=\"Convert this dataframe to an interactive table.\"\n",
              "              style=\"display:none;\">\n",
              "        \n",
              "  <svg xmlns=\"http://www.w3.org/2000/svg\" height=\"24px\"viewBox=\"0 0 24 24\"\n",
              "       width=\"24px\">\n",
              "    <path d=\"M0 0h24v24H0V0z\" fill=\"none\"/>\n",
              "    <path d=\"M18.56 5.44l.94 2.06.94-2.06 2.06-.94-2.06-.94-.94-2.06-.94 2.06-2.06.94zm-11 1L8.5 8.5l.94-2.06 2.06-.94-2.06-.94L8.5 2.5l-.94 2.06-2.06.94zm10 10l.94 2.06.94-2.06 2.06-.94-2.06-.94-.94-2.06-.94 2.06-2.06.94z\"/><path d=\"M17.41 7.96l-1.37-1.37c-.4-.4-.92-.59-1.43-.59-.52 0-1.04.2-1.43.59L10.3 9.45l-7.72 7.72c-.78.78-.78 2.05 0 2.83L4 21.41c.39.39.9.59 1.41.59.51 0 1.02-.2 1.41-.59l7.78-7.78 2.81-2.81c.8-.78.8-2.07 0-2.86zM5.41 20L4 18.59l7.72-7.72 1.47 1.35L5.41 20z\"/>\n",
              "  </svg>\n",
              "      </button>\n",
              "      \n",
              "  <style>\n",
              "    .colab-df-container {\n",
              "      display:flex;\n",
              "      flex-wrap:wrap;\n",
              "      gap: 12px;\n",
              "    }\n",
              "\n",
              "    .colab-df-convert {\n",
              "      background-color: #E8F0FE;\n",
              "      border: none;\n",
              "      border-radius: 50%;\n",
              "      cursor: pointer;\n",
              "      display: none;\n",
              "      fill: #1967D2;\n",
              "      height: 32px;\n",
              "      padding: 0 0 0 0;\n",
              "      width: 32px;\n",
              "    }\n",
              "\n",
              "    .colab-df-convert:hover {\n",
              "      background-color: #E2EBFA;\n",
              "      box-shadow: 0px 1px 2px rgba(60, 64, 67, 0.3), 0px 1px 3px 1px rgba(60, 64, 67, 0.15);\n",
              "      fill: #174EA6;\n",
              "    }\n",
              "\n",
              "    [theme=dark] .colab-df-convert {\n",
              "      background-color: #3B4455;\n",
              "      fill: #D2E3FC;\n",
              "    }\n",
              "\n",
              "    [theme=dark] .colab-df-convert:hover {\n",
              "      background-color: #434B5C;\n",
              "      box-shadow: 0px 1px 3px 1px rgba(0, 0, 0, 0.15);\n",
              "      filter: drop-shadow(0px 1px 2px rgba(0, 0, 0, 0.3));\n",
              "      fill: #FFFFFF;\n",
              "    }\n",
              "  </style>\n",
              "\n",
              "      <script>\n",
              "        const buttonEl =\n",
              "          document.querySelector('#df-af633680-4244-464a-af39-cfaf150544da button.colab-df-convert');\n",
              "        buttonEl.style.display =\n",
              "          google.colab.kernel.accessAllowed ? 'block' : 'none';\n",
              "\n",
              "        async function convertToInteractive(key) {\n",
              "          const element = document.querySelector('#df-af633680-4244-464a-af39-cfaf150544da');\n",
              "          const dataTable =\n",
              "            await google.colab.kernel.invokeFunction('convertToInteractive',\n",
              "                                                     [key], {});\n",
              "          if (!dataTable) return;\n",
              "\n",
              "          const docLinkHtml = 'Like what you see? Visit the ' +\n",
              "            '<a target=\"_blank\" href=https://colab.research.google.com/notebooks/data_table.ipynb>data table notebook</a>'\n",
              "            + ' to learn more about interactive tables.';\n",
              "          element.innerHTML = '';\n",
              "          dataTable['output_type'] = 'display_data';\n",
              "          await google.colab.output.renderOutput(dataTable, element);\n",
              "          const docLink = document.createElement('div');\n",
              "          docLink.innerHTML = docLinkHtml;\n",
              "          element.appendChild(docLink);\n",
              "        }\n",
              "      </script>\n",
              "    </div>\n",
              "  </div>\n",
              "  "
            ]
          },
          "metadata": {},
          "execution_count": 16
        }
      ]
    },
    {
      "cell_type": "code",
      "source": [
        "test_size = test_pd[\"qid\"].size\n",
        "test_size"
      ],
      "metadata": {
        "colab": {
          "base_uri": "https://localhost:8080/"
        },
        "id": "X9UK_rU3KcqJ",
        "outputId": "c941ea63-89ec-4007-9968-ec2a04edafc2"
      },
      "execution_count": 17,
      "outputs": [
        {
          "output_type": "execute_result",
          "data": {
            "text/plain": [
              "375806"
            ]
          },
          "metadata": {},
          "execution_count": 17
        }
      ]
    },
    {
      "cell_type": "code",
      "source": [
        "test_pd.loc[0, \"question_text\"]"
      ],
      "metadata": {
        "colab": {
          "base_uri": "https://localhost:8080/",
          "height": 36
        },
        "id": "sMZzVXedK-n7",
        "outputId": "5da3be34-f18f-4eed-bb12-6206b95669e6"
      },
      "execution_count": 18,
      "outputs": [
        {
          "output_type": "execute_result",
          "data": {
            "text/plain": [
              "'Why do so many women become so rude and arrogant when they get just a little bit of wealth and power?'"
            ],
            "application/vnd.google.colaboratory.intrinsic+json": {
              "type": "string"
            }
          },
          "metadata": {},
          "execution_count": 18
        }
      ]
    },
    {
      "cell_type": "code",
      "source": [
        "test_sequences = trained_model.vectorizer.transform(test_pd.question_text.tolist())"
      ],
      "metadata": {
        "id": "4bImKdklr82-"
      },
      "execution_count": 23,
      "outputs": []
    },
    {
      "cell_type": "code",
      "source": [
        "test_sequences"
      ],
      "metadata": {
        "colab": {
          "base_uri": "https://localhost:8080/"
        },
        "id": "PnrRK9QMsMQP",
        "outputId": "4858fe5e-c384-4046-fb64-1b590e4cdbe2"
      },
      "execution_count": 26,
      "outputs": [
        {
          "output_type": "execute_result",
          "data": {
            "text/plain": [
              "<375806x110 sparse matrix of type '<class 'numpy.int64'>'\n",
              "\twith 421977 stored elements in Compressed Sparse Row format>"
            ]
          },
          "metadata": {},
          "execution_count": 26
        }
      ]
    },
    {
      "cell_type": "code",
      "source": [
        "from tqdm.notebook import tqdm\n",
        "\n",
        "guesses = []\n",
        "for i in tqdm(range(test_size)):\n",
        "  input = torch.tensor(test_sequences[i, :].toarray()).type(torch.float)\n",
        "  pred = trained_model(input)\n",
        "  pred = torch.round(torch.squeeze(pred)).item()\n",
        "  guesses.append(pred)"
      ],
      "metadata": {
        "colab": {
          "base_uri": "https://localhost:8080/",
          "height": 49,
          "referenced_widgets": [
            "7994fc6b9b3142598ba27d065c80b5e9",
            "a3c82bf6b8b846319c17d66228054d77",
            "1fa13ca43e5e4b609575d696ddcf5a0e",
            "6dcc18ba9c33448c804d5f8ef9797277",
            "06072d4043a243f19ad15cff68031f8a",
            "96a7f2c82fc14900876bb624b3796265",
            "319be2082aad4f658a7a78545aceca0d",
            "f27556dfb4554c2290af6e388d978941",
            "9ea6454edebb4808a340ea0a4cb7045a",
            "68bdc29ad9ab4c6fba12e8966c3c9b7f",
            "2d7386368bd9422b9bfd04b6020157d7"
          ]
        },
        "id": "DIdaPD3yJd2c",
        "outputId": "74503d86-b8a2-46f4-fbe6-4ceec7c5bc7a"
      },
      "execution_count": 29,
      "outputs": [
        {
          "output_type": "display_data",
          "data": {
            "text/plain": [
              "  0%|          | 0/375806 [00:00<?, ?it/s]"
            ],
            "application/vnd.jupyter.widget-view+json": {
              "version_major": 2,
              "version_minor": 0,
              "model_id": "7994fc6b9b3142598ba27d065c80b5e9"
            }
          },
          "metadata": {}
        }
      ]
    },
    {
      "cell_type": "code",
      "source": [
        "guesses[0:5]"
      ],
      "metadata": {
        "id": "JkcQDRghLyeg",
        "colab": {
          "base_uri": "https://localhost:8080/"
        },
        "outputId": "e70c93fd-e4ce-4931-840c-acadf93c8b9c"
      },
      "execution_count": 31,
      "outputs": [
        {
          "output_type": "execute_result",
          "data": {
            "text/plain": [
              "[0.0, 0.0, 0.0, 0.0, 0.0]"
            ]
          },
          "metadata": {},
          "execution_count": 31
        }
      ]
    },
    {
      "cell_type": "code",
      "source": [],
      "metadata": {
        "id": "ztLvB0RstS-G"
      },
      "execution_count": null,
      "outputs": []
    }
  ]
}